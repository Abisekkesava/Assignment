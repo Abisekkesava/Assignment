{
  "nbformat": 4,
  "nbformat_minor": 0,
  "metadata": {
    "colab": {
      "provenance": [],
      "toc_visible": true
    },
    "kernelspec": {
      "name": "python3",
      "display_name": "Python 3"
    },
    "language_info": {
      "name": "python"
    }
  },
  "cells": [
    {
      "cell_type": "code",
      "execution_count": 3,
      "metadata": {
        "colab": {
          "base_uri": "https://localhost:8080/"
        },
        "id": "TFFeWUxzl7hy",
        "outputId": "ec46aa3d-eef5-440a-cba9-8db540e21042"
      },
      "outputs": [
        {
          "output_type": "stream",
          "name": "stdout",
          "text": [
            "['Mahesh Bhandari', 'Kesava Abisek', 'Vijay Reddy']\n"
          ]
        }
      ],
      "source": [
        "# initialize the Python lists  \n",
        "first_name = ['Mahesh','Kesava','Vijay']  \n",
        "last_name = ['Bhandari','Abisek','Reddy']  \n",
        "# use list comprehension to add two lists.  \n",
        "full_name = [ first_name[x] + ' ' + last_name[x] for x in range (len (first_name))]   \n",
        "print (full_name)"
      ]
    },
    {
      "cell_type": "code",
      "source": [],
      "metadata": {
        "id": "UI-vcJ98mxIH"
      },
      "execution_count": null,
      "outputs": []
    },
    {
      "cell_type": "code",
      "source": [],
      "metadata": {
        "id": "lB-lRNusmsmz"
      },
      "execution_count": null,
      "outputs": []
    }
  ]
}